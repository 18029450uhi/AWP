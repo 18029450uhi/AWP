{
  "nbformat": 4,
  "nbformat_minor": 0,
  "metadata": {
    "colab": {
      "name": "18029450_AWPTutorial1.ipynb",
      "provenance": [],
      "collapsed_sections": [],
      "authorship_tag": "ABX9TyPWgOGL+O/LY3ZOxbdjlSgw",
      "include_colab_link": true
    },
    "kernelspec": {
      "name": "python3",
      "display_name": "Python 3"
    },
    "language_info": {
      "name": "python"
    }
  },
  "cells": [
    {
      "cell_type": "markdown",
      "metadata": {
        "id": "view-in-github",
        "colab_type": "text"
      },
      "source": [
        "<a href=\"https://colab.research.google.com/github/18029450uhi/AdvancedWebProgramming/blob/main/18029450_AWPTutorial1.ipynb\" target=\"_parent\"><img src=\"https://colab.research.google.com/assets/colab-badge.svg\" alt=\"Open In Colab\"/></a>"
      ]
    },
    {
      "cell_type": "markdown",
      "source": [
        "This program pritnts out  prime numbers. The user needs to enter a single interger between till 100 to printout the required number of prime numbers."
      ],
      "metadata": {
        "id": "PBctj7VFSiGP"
      }
    },
    {
      "cell_type": "code",
      "execution_count": 99,
      "metadata": {
        "colab": {
          "base_uri": "https://localhost:8080/"
        },
        "id": "dPQxUbsizP4I",
        "outputId": "703249b0-9016-41d4-8d53-bbab98dac110"
      },
      "outputs": [
        {
          "output_type": "stream",
          "name": "stdout",
          "text": [
            "Overwriting 18029450_AWPTutorial1.cpp\n"
          ]
        }
      ],
      "source": [
        "%%writefile 18029450_AWPTutorial1.cpp\n",
        "\n",
        "#include <iostream>\n",
        "\n",
        "using namespace std;\n",
        "\n",
        "int\n",
        "main ()\n",
        "{\n",
        "  int n, k=3, number, j;\n",
        "  cout << \"Enter the number of prime numbers needs to be printed:\\n\";\n",
        "  //taking the input from the user and storing it in n \n",
        "  cin >> n;\n",
        "  //the input value codition \n",
        "  if (n>= 1 && n<= 100)\n",
        "    {\n",
        "      {\n",
        "\tcout << \"The requested prime numbers are : \\n\";\n",
        "\t//printing the first prime number\n",
        "\tcout << \"2 \";\n",
        "      }\n",
        "      //iteration for given n prime number(s) and k will be checked for every iteration where the starting value of k is 3\n",
        "      for (number = 2; number <= n; k++)\n",
        "\t{\n",
        "\t  // for loop to check if k is a prime number or not\n",
        "\t  for (j = 2; j < k; j++)\n",
        "\t    {\n",
        "\t      //if k is divisible by j then it is not a prime number\n",
        "\t      if (k % j == 0)\n",
        "\t\tbreak;\n",
        "\t    }\n",
        "\t  //checking the prime number condition\n",
        "\t  if (j == k)\n",
        "\t    {\n",
        "\t      //printing the prime number\n",
        "\t      cout << k << \" \";\n",
        "\t      //increment of the prime number counter by 1.\n",
        "\t      number++;\n",
        "\t    }\n",
        "\t}\n",
        "    }\n",
        "  //if the input does not fulfill the givenn condition\n",
        "  else\n",
        "    cout << \"Please check your input. try again. Thank you\";\n",
        "\n",
        "  return 0;\n",
        "}\n"
      ]
    },
    {
      "cell_type": "code",
      "source": [
        "%%writefile fakeinput.in\n",
        "11"
      ],
      "metadata": {
        "colab": {
          "base_uri": "https://localhost:8080/"
        },
        "id": "_el0VxFF2W7R",
        "outputId": "adb2567b-0e96-4199-bd49-496ca673557c"
      },
      "execution_count": 106,
      "outputs": [
        {
          "output_type": "stream",
          "name": "stdout",
          "text": [
            "Overwriting fakeinput.in\n"
          ]
        }
      ]
    },
    {
      "cell_type": "code",
      "source": [
        "%%script bash\n",
        "g++ 18029450_AWPTutorial1.cpp -std=c++11\n",
        "./a.out <./fakeinput.in"
      ],
      "metadata": {
        "id": "AyCtkam_2g7P",
        "colab": {
          "base_uri": "https://localhost:8080/"
        },
        "outputId": "52422345-06e6-4381-dd17-27d7a1908683"
      },
      "execution_count": 107,
      "outputs": [
        {
          "output_type": "stream",
          "name": "stdout",
          "text": [
            "Enter the number of prime numbers needs to be printed:\n",
            "The requested prime numbers are : \n",
            "2 3 5 7 11 13 17 19 23 29 31 "
          ]
        }
      ]
    },
    {
      "cell_type": "markdown",
      "source": [
        "The above program can successfully print out the prime numbers."
      ],
      "metadata": {
        "id": "q6HsrjJYVknN"
      }
    }
  ]
}