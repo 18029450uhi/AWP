{
  "nbformat": 4,
  "nbformat_minor": 0,
  "metadata": {
    "colab": {
      "name": "18029450_AWPTutorial2.ipynb",
      "provenance": [],
      "authorship_tag": "ABX9TyOg9rhhJKQx6sC1bejsZZAc",
      "include_colab_link": true
    },
    "kernelspec": {
      "name": "python3",
      "display_name": "Python 3"
    },
    "language_info": {
      "name": "python"
    }
  },
  "cells": [
    {
      "cell_type": "markdown",
      "metadata": {
        "id": "view-in-github",
        "colab_type": "text"
      },
      "source": [
        "<a href=\"https://colab.research.google.com/github/18029450uhi/AdvancedWebProgramming/blob/main/18029450_AWPTutorial2.ipynb\" target=\"_parent\"><img src=\"https://colab.research.google.com/assets/colab-badge.svg\" alt=\"Open In Colab\"/></a>"
      ]
    },
    {
      "cell_type": "markdown",
      "source": [
        "OpenCV is an open source function library for image processing and machine learning. This program takes a RGB image and transforms into a grayscale image using OpenCV library. The input file is cat.jpg."
      ],
      "metadata": {
        "id": "OISMifkCNhyO"
      }
    },
    {
      "cell_type": "code",
      "source": [
        "%%writefile 18029450_AWPTutorial2.cpp\n",
        "\n",
        "#include<opencv2/opencv.hpp>// library for OpenCV supported funtions\n",
        "#include \"opencv2/highgui.hpp\" // the library for image displaying functions\n",
        "#include \"opencv2/imgproc.hpp\"// the library for image processing function\n",
        "\n",
        "using namespace cv;\n",
        "\n",
        "int main(){\n",
        "  Mat img_rgb, img_gry; // represents two data objects to take the image\n",
        "  \n",
        "  img_rgb = imread(\"/content/cat.jpg\");// reading the jpg file and loading the image \n",
        "\n",
        "  cvtColor(img_rgb, img_gry, CV_BGR2GRAY);//function for converting the image from RGB to Grayscale\n",
        "  imwrite(\"/content/output.jpg\",img_gry);// saves the image into output.jpg\n",
        "  waitKey(0);// the program waits till a keystroke\n",
        "  return 0;\n",
        "\n",
        "\n",
        "\n",
        "}\n"
      ],
      "metadata": {
        "colab": {
          "base_uri": "https://localhost:8080/"
        },
        "id": "7Lz9CUe3DM1v",
        "outputId": "ebc72e48-3438-48e9-f943-32508e75b83a"
      },
      "execution_count": 25,
      "outputs": [
        {
          "output_type": "stream",
          "name": "stdout",
          "text": [
            "Overwriting 18029450_AWPTutorial2.cpp\n"
          ]
        }
      ]
    },
    {
      "cell_type": "code",
      "source": [
        "%%script bash\n",
        "g++ 18029450_AWPTutorial2.cpp -L/usr/include/opencv -lopencv_core -lopencv_highgui -lopencv_imgcodecs -lopencv_imgproc -std=c++11\n",
        "./a.out"
      ],
      "metadata": {
        "id": "6z5WlHvdGnvC"
      },
      "execution_count": 26,
      "outputs": []
    },
    {
      "cell_type": "markdown",
      "source": [
        "The above program has successfully transformed the cat image to a black and white image and it can be seen in the output.jpg file."
      ],
      "metadata": {
        "id": "70rUfqSSUV6W"
      }
    }
  ]
}